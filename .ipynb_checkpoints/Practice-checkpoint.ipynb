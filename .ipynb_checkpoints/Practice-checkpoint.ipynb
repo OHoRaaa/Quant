{
 "cells": [
  {
   "cell_type": "code",
   "execution_count": 1,
   "id": "0602a050",
   "metadata": {},
   "outputs": [],
   "source": [
    "import pandas as pd\n",
    "import numpy as np\n",
    "import matplotlib.pyplot as plt\n",
    "import seaborn as sns"
   ]
  },
  {
   "cell_type": "code",
   "execution_count": 2,
   "id": "8ef2916f",
   "metadata": {},
   "outputs": [],
   "source": [
    "import FinanceDataReader as fdr"
   ]
  },
  {
   "cell_type": "code",
   "execution_count": 3,
   "id": "ea0e65f2",
   "metadata": {},
   "outputs": [],
   "source": [
    "df = fdr.DataReader('005930', '2020', '2022')"
   ]
  },
  {
   "cell_type": "code",
   "execution_count": 4,
   "id": "6aa872c5",
   "metadata": {},
   "outputs": [
    {
     "data": {
      "text/html": [
       "<div>\n",
       "<style scoped>\n",
       "    .dataframe tbody tr th:only-of-type {\n",
       "        vertical-align: middle;\n",
       "    }\n",
       "\n",
       "    .dataframe tbody tr th {\n",
       "        vertical-align: top;\n",
       "    }\n",
       "\n",
       "    .dataframe thead th {\n",
       "        text-align: right;\n",
       "    }\n",
       "</style>\n",
       "<table border=\"1\" class=\"dataframe\">\n",
       "  <thead>\n",
       "    <tr style=\"text-align: right;\">\n",
       "      <th></th>\n",
       "      <th>Open</th>\n",
       "      <th>High</th>\n",
       "      <th>Low</th>\n",
       "      <th>Close</th>\n",
       "      <th>Volume</th>\n",
       "      <th>Change</th>\n",
       "    </tr>\n",
       "    <tr>\n",
       "      <th>Date</th>\n",
       "      <th></th>\n",
       "      <th></th>\n",
       "      <th></th>\n",
       "      <th></th>\n",
       "      <th></th>\n",
       "      <th></th>\n",
       "    </tr>\n",
       "  </thead>\n",
       "  <tbody>\n",
       "    <tr>\n",
       "      <th>2020-01-02</th>\n",
       "      <td>55500</td>\n",
       "      <td>56000</td>\n",
       "      <td>55000</td>\n",
       "      <td>55200</td>\n",
       "      <td>12993228</td>\n",
       "      <td>-0.010753</td>\n",
       "    </tr>\n",
       "    <tr>\n",
       "      <th>2020-01-03</th>\n",
       "      <td>56000</td>\n",
       "      <td>56600</td>\n",
       "      <td>54900</td>\n",
       "      <td>55500</td>\n",
       "      <td>15422255</td>\n",
       "      <td>0.005435</td>\n",
       "    </tr>\n",
       "    <tr>\n",
       "      <th>2020-01-06</th>\n",
       "      <td>54900</td>\n",
       "      <td>55600</td>\n",
       "      <td>54600</td>\n",
       "      <td>55500</td>\n",
       "      <td>10278951</td>\n",
       "      <td>0.000000</td>\n",
       "    </tr>\n",
       "    <tr>\n",
       "      <th>2020-01-07</th>\n",
       "      <td>55700</td>\n",
       "      <td>56400</td>\n",
       "      <td>55600</td>\n",
       "      <td>55800</td>\n",
       "      <td>10009778</td>\n",
       "      <td>0.005405</td>\n",
       "    </tr>\n",
       "    <tr>\n",
       "      <th>2020-01-08</th>\n",
       "      <td>56200</td>\n",
       "      <td>57400</td>\n",
       "      <td>55900</td>\n",
       "      <td>56800</td>\n",
       "      <td>23501171</td>\n",
       "      <td>0.017921</td>\n",
       "    </tr>\n",
       "  </tbody>\n",
       "</table>\n",
       "</div>"
      ],
      "text/plain": [
       "             Open   High    Low  Close    Volume    Change\n",
       "Date                                                      \n",
       "2020-01-02  55500  56000  55000  55200  12993228 -0.010753\n",
       "2020-01-03  56000  56600  54900  55500  15422255  0.005435\n",
       "2020-01-06  54900  55600  54600  55500  10278951  0.000000\n",
       "2020-01-07  55700  56400  55600  55800  10009778  0.005405\n",
       "2020-01-08  56200  57400  55900  56800  23501171  0.017921"
      ]
     },
     "execution_count": 4,
     "metadata": {},
     "output_type": "execute_result"
    }
   ],
   "source": [
    "df.head()"
   ]
  },
  {
   "cell_type": "code",
   "execution_count": 5,
   "id": "78a20c62",
   "metadata": {},
   "outputs": [
    {
     "data": {
      "text/plain": [
       "Date\n",
       "2020-01-02         NaN\n",
       "2020-01-03    0.005435\n",
       "2020-01-06    0.000000\n",
       "2020-01-07    0.005405\n",
       "2020-01-08    0.017921\n",
       "                ...   \n",
       "2021-12-24    0.007509\n",
       "2021-12-27   -0.003727\n",
       "2021-12-28    0.001247\n",
       "2021-12-29   -0.018680\n",
       "2021-12-30   -0.006345\n",
       "Name: Close, Length: 496, dtype: float64"
      ]
     },
     "execution_count": 5,
     "metadata": {},
     "output_type": "execute_result"
    }
   ],
   "source": [
    "df['Close'] / df['Close'].shift(1) -1"
   ]
  },
  {
   "cell_type": "code",
   "execution_count": 6,
   "id": "5a28845c",
   "metadata": {},
   "outputs": [
    {
     "data": {
      "text/plain": [
       "Date\n",
       "2020-01-02         NaN\n",
       "2020-01-03    0.005435\n",
       "2020-01-06    0.000000\n",
       "2020-01-07    0.005405\n",
       "2020-01-08    0.017921\n",
       "                ...   \n",
       "2021-12-24    0.007509\n",
       "2021-12-27   -0.003727\n",
       "2021-12-28    0.001247\n",
       "2021-12-29   -0.018680\n",
       "2021-12-30   -0.006345\n",
       "Name: Close, Length: 496, dtype: float64"
      ]
     },
     "execution_count": 6,
     "metadata": {},
     "output_type": "execute_result"
    }
   ],
   "source": [
    "df['Close'].pct_change(1)"
   ]
  },
  {
   "cell_type": "code",
   "execution_count": null,
   "id": "0303fae7",
   "metadata": {},
   "outputs": [],
   "source": []
  },
  {
   "cell_type": "code",
   "execution_count": 8,
   "id": "e1e34416",
   "metadata": {},
   "outputs": [],
   "source": [
    "df['return'] = df['Change'] + 1"
   ]
  },
  {
   "cell_type": "code",
   "execution_count": 9,
   "id": "bd9c779b",
   "metadata": {},
   "outputs": [
    {
     "data": {
      "text/html": [
       "<div>\n",
       "<style scoped>\n",
       "    .dataframe tbody tr th:only-of-type {\n",
       "        vertical-align: middle;\n",
       "    }\n",
       "\n",
       "    .dataframe tbody tr th {\n",
       "        vertical-align: top;\n",
       "    }\n",
       "\n",
       "    .dataframe thead th {\n",
       "        text-align: right;\n",
       "    }\n",
       "</style>\n",
       "<table border=\"1\" class=\"dataframe\">\n",
       "  <thead>\n",
       "    <tr style=\"text-align: right;\">\n",
       "      <th></th>\n",
       "      <th>Open</th>\n",
       "      <th>High</th>\n",
       "      <th>Low</th>\n",
       "      <th>Close</th>\n",
       "      <th>Volume</th>\n",
       "      <th>Change</th>\n",
       "      <th>return</th>\n",
       "    </tr>\n",
       "    <tr>\n",
       "      <th>Date</th>\n",
       "      <th></th>\n",
       "      <th></th>\n",
       "      <th></th>\n",
       "      <th></th>\n",
       "      <th></th>\n",
       "      <th></th>\n",
       "      <th></th>\n",
       "    </tr>\n",
       "  </thead>\n",
       "  <tbody>\n",
       "    <tr>\n",
       "      <th>2020-01-02</th>\n",
       "      <td>55500</td>\n",
       "      <td>56000</td>\n",
       "      <td>55000</td>\n",
       "      <td>55200</td>\n",
       "      <td>12993228</td>\n",
       "      <td>-0.010753</td>\n",
       "      <td>0.989247</td>\n",
       "    </tr>\n",
       "    <tr>\n",
       "      <th>2020-01-03</th>\n",
       "      <td>56000</td>\n",
       "      <td>56600</td>\n",
       "      <td>54900</td>\n",
       "      <td>55500</td>\n",
       "      <td>15422255</td>\n",
       "      <td>0.005435</td>\n",
       "      <td>1.005435</td>\n",
       "    </tr>\n",
       "    <tr>\n",
       "      <th>2020-01-06</th>\n",
       "      <td>54900</td>\n",
       "      <td>55600</td>\n",
       "      <td>54600</td>\n",
       "      <td>55500</td>\n",
       "      <td>10278951</td>\n",
       "      <td>0.000000</td>\n",
       "      <td>1.000000</td>\n",
       "    </tr>\n",
       "    <tr>\n",
       "      <th>2020-01-07</th>\n",
       "      <td>55700</td>\n",
       "      <td>56400</td>\n",
       "      <td>55600</td>\n",
       "      <td>55800</td>\n",
       "      <td>10009778</td>\n",
       "      <td>0.005405</td>\n",
       "      <td>1.005405</td>\n",
       "    </tr>\n",
       "    <tr>\n",
       "      <th>2020-01-08</th>\n",
       "      <td>56200</td>\n",
       "      <td>57400</td>\n",
       "      <td>55900</td>\n",
       "      <td>56800</td>\n",
       "      <td>23501171</td>\n",
       "      <td>0.017921</td>\n",
       "      <td>1.017921</td>\n",
       "    </tr>\n",
       "    <tr>\n",
       "      <th>...</th>\n",
       "      <td>...</td>\n",
       "      <td>...</td>\n",
       "      <td>...</td>\n",
       "      <td>...</td>\n",
       "      <td>...</td>\n",
       "      <td>...</td>\n",
       "      <td>...</td>\n",
       "    </tr>\n",
       "    <tr>\n",
       "      <th>2021-12-24</th>\n",
       "      <td>80200</td>\n",
       "      <td>80800</td>\n",
       "      <td>80200</td>\n",
       "      <td>80500</td>\n",
       "      <td>12086380</td>\n",
       "      <td>0.007509</td>\n",
       "      <td>1.007509</td>\n",
       "    </tr>\n",
       "    <tr>\n",
       "      <th>2021-12-27</th>\n",
       "      <td>80600</td>\n",
       "      <td>80600</td>\n",
       "      <td>79800</td>\n",
       "      <td>80200</td>\n",
       "      <td>10783368</td>\n",
       "      <td>-0.003727</td>\n",
       "      <td>0.996273</td>\n",
       "    </tr>\n",
       "    <tr>\n",
       "      <th>2021-12-28</th>\n",
       "      <td>80200</td>\n",
       "      <td>80400</td>\n",
       "      <td>79700</td>\n",
       "      <td>80300</td>\n",
       "      <td>18226325</td>\n",
       "      <td>0.001247</td>\n",
       "      <td>1.001247</td>\n",
       "    </tr>\n",
       "    <tr>\n",
       "      <th>2021-12-29</th>\n",
       "      <td>80200</td>\n",
       "      <td>80200</td>\n",
       "      <td>78500</td>\n",
       "      <td>78800</td>\n",
       "      <td>19794795</td>\n",
       "      <td>-0.018680</td>\n",
       "      <td>0.981320</td>\n",
       "    </tr>\n",
       "    <tr>\n",
       "      <th>2021-12-30</th>\n",
       "      <td>78900</td>\n",
       "      <td>79500</td>\n",
       "      <td>78100</td>\n",
       "      <td>78300</td>\n",
       "      <td>14236700</td>\n",
       "      <td>-0.006345</td>\n",
       "      <td>0.993655</td>\n",
       "    </tr>\n",
       "  </tbody>\n",
       "</table>\n",
       "<p>496 rows × 7 columns</p>\n",
       "</div>"
      ],
      "text/plain": [
       "             Open   High    Low  Close    Volume    Change    return\n",
       "Date                                                                \n",
       "2020-01-02  55500  56000  55000  55200  12993228 -0.010753  0.989247\n",
       "2020-01-03  56000  56600  54900  55500  15422255  0.005435  1.005435\n",
       "2020-01-06  54900  55600  54600  55500  10278951  0.000000  1.000000\n",
       "2020-01-07  55700  56400  55600  55800  10009778  0.005405  1.005405\n",
       "2020-01-08  56200  57400  55900  56800  23501171  0.017921  1.017921\n",
       "...           ...    ...    ...    ...       ...       ...       ...\n",
       "2021-12-24  80200  80800  80200  80500  12086380  0.007509  1.007509\n",
       "2021-12-27  80600  80600  79800  80200  10783368 -0.003727  0.996273\n",
       "2021-12-28  80200  80400  79700  80300  18226325  0.001247  1.001247\n",
       "2021-12-29  80200  80200  78500  78800  19794795 -0.018680  0.981320\n",
       "2021-12-30  78900  79500  78100  78300  14236700 -0.006345  0.993655\n",
       "\n",
       "[496 rows x 7 columns]"
      ]
     },
     "execution_count": 9,
     "metadata": {},
     "output_type": "execute_result"
    }
   ],
   "source": [
    "df"
   ]
  },
  {
   "cell_type": "code",
   "execution_count": 11,
   "id": "ee381482",
   "metadata": {},
   "outputs": [
    {
     "data": {
      "text/plain": [
       "Date\n",
       "2020-01-02    0.989247\n",
       "2020-01-03    0.994624\n",
       "2020-01-06    0.994624\n",
       "2020-01-07    1.000000\n",
       "2020-01-08    1.017921\n",
       "                ...   \n",
       "2021-12-24    1.442652\n",
       "2021-12-27    1.437276\n",
       "2021-12-28    1.439068\n",
       "2021-12-29    1.412186\n",
       "2021-12-30    1.403226\n",
       "Name: return, Length: 496, dtype: float64"
      ]
     },
     "execution_count": 11,
     "metadata": {},
     "output_type": "execute_result"
    }
   ],
   "source": [
    "df['return'].cumprod()"
   ]
  },
  {
   "cell_type": "code",
   "execution_count": null,
   "id": "4761df5e",
   "metadata": {},
   "outputs": [],
   "source": []
  },
  {
   "cell_type": "code",
   "execution_count": 12,
   "id": "d337d81e",
   "metadata": {},
   "outputs": [],
   "source": [
    "# 이동평균선"
   ]
  },
  {
   "cell_type": "code",
   "execution_count": 13,
   "id": "30f3f878",
   "metadata": {},
   "outputs": [
    {
     "data": {
      "text/html": [
       "<div>\n",
       "<style scoped>\n",
       "    .dataframe tbody tr th:only-of-type {\n",
       "        vertical-align: middle;\n",
       "    }\n",
       "\n",
       "    .dataframe tbody tr th {\n",
       "        vertical-align: top;\n",
       "    }\n",
       "\n",
       "    .dataframe thead th {\n",
       "        text-align: right;\n",
       "    }\n",
       "</style>\n",
       "<table border=\"1\" class=\"dataframe\">\n",
       "  <thead>\n",
       "    <tr style=\"text-align: right;\">\n",
       "      <th></th>\n",
       "      <th>Open</th>\n",
       "      <th>High</th>\n",
       "      <th>Low</th>\n",
       "      <th>Close</th>\n",
       "      <th>Volume</th>\n",
       "      <th>Change</th>\n",
       "      <th>return</th>\n",
       "      <th>20ma</th>\n",
       "      <th>60ma</th>\n",
       "    </tr>\n",
       "    <tr>\n",
       "      <th>Date</th>\n",
       "      <th></th>\n",
       "      <th></th>\n",
       "      <th></th>\n",
       "      <th></th>\n",
       "      <th></th>\n",
       "      <th></th>\n",
       "      <th></th>\n",
       "      <th></th>\n",
       "      <th></th>\n",
       "    </tr>\n",
       "  </thead>\n",
       "  <tbody>\n",
       "    <tr>\n",
       "      <th>2020-01-02</th>\n",
       "      <td>55500</td>\n",
       "      <td>56000</td>\n",
       "      <td>55000</td>\n",
       "      <td>55200</td>\n",
       "      <td>12993228</td>\n",
       "      <td>-0.010753</td>\n",
       "      <td>0.989247</td>\n",
       "      <td>NaN</td>\n",
       "      <td>NaN</td>\n",
       "    </tr>\n",
       "    <tr>\n",
       "      <th>2020-01-03</th>\n",
       "      <td>56000</td>\n",
       "      <td>56600</td>\n",
       "      <td>54900</td>\n",
       "      <td>55500</td>\n",
       "      <td>15422255</td>\n",
       "      <td>0.005435</td>\n",
       "      <td>1.005435</td>\n",
       "      <td>NaN</td>\n",
       "      <td>NaN</td>\n",
       "    </tr>\n",
       "    <tr>\n",
       "      <th>2020-01-06</th>\n",
       "      <td>54900</td>\n",
       "      <td>55600</td>\n",
       "      <td>54600</td>\n",
       "      <td>55500</td>\n",
       "      <td>10278951</td>\n",
       "      <td>0.000000</td>\n",
       "      <td>1.000000</td>\n",
       "      <td>NaN</td>\n",
       "      <td>NaN</td>\n",
       "    </tr>\n",
       "    <tr>\n",
       "      <th>2020-01-07</th>\n",
       "      <td>55700</td>\n",
       "      <td>56400</td>\n",
       "      <td>55600</td>\n",
       "      <td>55800</td>\n",
       "      <td>10009778</td>\n",
       "      <td>0.005405</td>\n",
       "      <td>1.005405</td>\n",
       "      <td>NaN</td>\n",
       "      <td>NaN</td>\n",
       "    </tr>\n",
       "    <tr>\n",
       "      <th>2020-01-08</th>\n",
       "      <td>56200</td>\n",
       "      <td>57400</td>\n",
       "      <td>55900</td>\n",
       "      <td>56800</td>\n",
       "      <td>23501171</td>\n",
       "      <td>0.017921</td>\n",
       "      <td>1.017921</td>\n",
       "      <td>NaN</td>\n",
       "      <td>NaN</td>\n",
       "    </tr>\n",
       "    <tr>\n",
       "      <th>...</th>\n",
       "      <td>...</td>\n",
       "      <td>...</td>\n",
       "      <td>...</td>\n",
       "      <td>...</td>\n",
       "      <td>...</td>\n",
       "      <td>...</td>\n",
       "      <td>...</td>\n",
       "      <td>...</td>\n",
       "      <td>...</td>\n",
       "    </tr>\n",
       "    <tr>\n",
       "      <th>2021-12-24</th>\n",
       "      <td>80200</td>\n",
       "      <td>80800</td>\n",
       "      <td>80200</td>\n",
       "      <td>80500</td>\n",
       "      <td>12086380</td>\n",
       "      <td>0.007509</td>\n",
       "      <td>1.007509</td>\n",
       "      <td>76890.0</td>\n",
       "      <td>73046.666667</td>\n",
       "    </tr>\n",
       "    <tr>\n",
       "      <th>2021-12-27</th>\n",
       "      <td>80600</td>\n",
       "      <td>80600</td>\n",
       "      <td>79800</td>\n",
       "      <td>80200</td>\n",
       "      <td>10783368</td>\n",
       "      <td>-0.003727</td>\n",
       "      <td>0.996273</td>\n",
       "      <td>77285.0</td>\n",
       "      <td>73148.333333</td>\n",
       "    </tr>\n",
       "    <tr>\n",
       "      <th>2021-12-28</th>\n",
       "      <td>80200</td>\n",
       "      <td>80400</td>\n",
       "      <td>79700</td>\n",
       "      <td>80300</td>\n",
       "      <td>18226325</td>\n",
       "      <td>0.001247</td>\n",
       "      <td>1.001247</td>\n",
       "      <td>77735.0</td>\n",
       "      <td>73266.666667</td>\n",
       "    </tr>\n",
       "    <tr>\n",
       "      <th>2021-12-29</th>\n",
       "      <td>80200</td>\n",
       "      <td>80200</td>\n",
       "      <td>78500</td>\n",
       "      <td>78800</td>\n",
       "      <td>19794795</td>\n",
       "      <td>-0.018680</td>\n",
       "      <td>0.981320</td>\n",
       "      <td>77955.0</td>\n",
       "      <td>73376.666667</td>\n",
       "    </tr>\n",
       "    <tr>\n",
       "      <th>2021-12-30</th>\n",
       "      <td>78900</td>\n",
       "      <td>79500</td>\n",
       "      <td>78100</td>\n",
       "      <td>78300</td>\n",
       "      <td>14236700</td>\n",
       "      <td>-0.006345</td>\n",
       "      <td>0.993655</td>\n",
       "      <td>78080.0</td>\n",
       "      <td>73493.333333</td>\n",
       "    </tr>\n",
       "  </tbody>\n",
       "</table>\n",
       "<p>496 rows × 9 columns</p>\n",
       "</div>"
      ],
      "text/plain": [
       "             Open   High    Low  Close    Volume    Change    return     20ma  \\\n",
       "Date                                                                            \n",
       "2020-01-02  55500  56000  55000  55200  12993228 -0.010753  0.989247      NaN   \n",
       "2020-01-03  56000  56600  54900  55500  15422255  0.005435  1.005435      NaN   \n",
       "2020-01-06  54900  55600  54600  55500  10278951  0.000000  1.000000      NaN   \n",
       "2020-01-07  55700  56400  55600  55800  10009778  0.005405  1.005405      NaN   \n",
       "2020-01-08  56200  57400  55900  56800  23501171  0.017921  1.017921      NaN   \n",
       "...           ...    ...    ...    ...       ...       ...       ...      ...   \n",
       "2021-12-24  80200  80800  80200  80500  12086380  0.007509  1.007509  76890.0   \n",
       "2021-12-27  80600  80600  79800  80200  10783368 -0.003727  0.996273  77285.0   \n",
       "2021-12-28  80200  80400  79700  80300  18226325  0.001247  1.001247  77735.0   \n",
       "2021-12-29  80200  80200  78500  78800  19794795 -0.018680  0.981320  77955.0   \n",
       "2021-12-30  78900  79500  78100  78300  14236700 -0.006345  0.993655  78080.0   \n",
       "\n",
       "                    60ma  \n",
       "Date                      \n",
       "2020-01-02           NaN  \n",
       "2020-01-03           NaN  \n",
       "2020-01-06           NaN  \n",
       "2020-01-07           NaN  \n",
       "2020-01-08           NaN  \n",
       "...                  ...  \n",
       "2021-12-24  73046.666667  \n",
       "2021-12-27  73148.333333  \n",
       "2021-12-28  73266.666667  \n",
       "2021-12-29  73376.666667  \n",
       "2021-12-30  73493.333333  \n",
       "\n",
       "[496 rows x 9 columns]"
      ]
     },
     "execution_count": 13,
     "metadata": {},
     "output_type": "execute_result"
    }
   ],
   "source": [
    "df['20ma'] = df['Close'].rolling(20).mean()\n",
    "df['60ma'] = df['Close'].rolling(60).mean()\n",
    "df"
   ]
  },
  {
   "cell_type": "code",
   "execution_count": null,
   "id": "a6e21563",
   "metadata": {},
   "outputs": [],
   "source": []
  },
  {
   "cell_type": "code",
   "execution_count": 14,
   "id": "d62e03e2",
   "metadata": {},
   "outputs": [
    {
     "data": {
      "text/plain": [
       "<AxesSubplot:xlabel='Date'>"
      ]
     },
     "execution_count": 14,
     "metadata": {},
     "output_type": "execute_result"
    },
    {
     "data": {
      "image/png": "[encoded data removed]",
      "text/plain": [
       "<Figure size 1080x360 with 1 Axes>"
      ]
     },
     "metadata": {
      "needs_background": "light"
     },
     "output_type": "display_data"
    }
   ],
   "source": [
    "df[['Close', '20ma', '60ma']].plot(figsize=(15,5))"
   ]
  },
  {
   "cell_type": "code",
   "execution_count": 15,
   "id": "c8365602",
   "metadata": {},
   "outputs": [],
   "source": [
    "# 지수 이동평균선 : 현재와 가까운 값에 더 큰 가중치를 주어서 계산한 평균값"
   ]
  },
  {
   "cell_type": "code",
   "execution_count": 16,
   "id": "d3496144",
   "metadata": {},
   "outputs": [],
   "source": [
    "df['20ewma'] = df['Close'].ewm(span=20).mean()\n",
    "df['60ewma'] = df['Close'].ewm(span=60).mean()"
   ]
  },
  {
   "cell_type": "code",
   "execution_count": 17,
   "id": "a51f061a",
   "metadata": {},
   "outputs": [
    {
     "data": {
      "text/plain": [
       "<AxesSubplot:xlabel='Date'>"
      ]
     },
     "execution_count": 17,
     "metadata": {},
     "output_type": "execute_result"
    },
    {
     "data": {
      "image/png": "[encoded data removed]",
      "text/plain": [
       "<Figure size 1080x360 with 1 Axes>"
      ]
     },
     "metadata": {
      "needs_background": "light"
     },
     "output_type": "display_data"
    }
   ],
   "source": [
    "df[['Close', '20ewma', '60ewma']].plot(figsize=(15,5))"
   ]
  },
  {
   "cell_type": "code",
   "execution_count": null,
   "id": "afbf140d",
   "metadata": {},
   "outputs": [],
   "source": []
  },
  {
   "cell_type": "code",
   "execution_count": 18,
   "id": "8e3a41ef",
   "metadata": {},
   "outputs": [
    {
     "data": {
      "text/plain": [
       "Date\n",
       "2020-01-02    55200.0\n",
       "2020-01-03    55500.0\n",
       "2020-01-04        NaN\n",
       "2020-01-05        NaN\n",
       "2020-01-06    55500.0\n",
       "               ...   \n",
       "2021-12-26        NaN\n",
       "2021-12-27    80200.0\n",
       "2021-12-28    80300.0\n",
       "2021-12-29    78800.0\n",
       "2021-12-30    78300.0\n",
       "Freq: D, Name: Close, Length: 729, dtype: float64"
      ]
     },
     "execution_count": 18,
     "metadata": {},
     "output_type": "execute_result"
    }
   ],
   "source": [
    "df['Close'].asfreq('D')"
   ]
  },
  {
   "cell_type": "code",
   "execution_count": 19,
   "id": "f71d8a45",
   "metadata": {},
   "outputs": [
    {
     "data": {
      "text/plain": [
       "Date\n",
       "2020-01-02    55200.0\n",
       "2020-01-06    55500.0\n",
       "2020-01-10    59500.0\n",
       "2020-01-14    60000.0\n",
       "2020-01-18        NaN\n",
       "               ...   \n",
       "2021-12-14    77000.0\n",
       "2021-12-18        NaN\n",
       "2021-12-22    79400.0\n",
       "2021-12-26        NaN\n",
       "2021-12-30    78300.0\n",
       "Freq: 4D, Name: Close, Length: 183, dtype: float64"
      ]
     },
     "execution_count": 19,
     "metadata": {},
     "output_type": "execute_result"
    }
   ],
   "source": [
    "df['Close'].asfreq('4D')"
   ]
  },
  {
   "cell_type": "code",
   "execution_count": 21,
   "id": "3d986801",
   "metadata": {},
   "outputs": [
    {
     "data": {
      "text/plain": [
       "Date\n",
       "2020-01-31    58815.000000\n",
       "2020-02-29    59085.000000\n",
       "2020-03-31    50168.181818\n",
       "2020-04-30    49045.000000\n",
       "2020-05-31    49100.000000\n",
       "2020-06-30    52986.363636\n",
       "2020-07-31    54726.086957\n",
       "2020-08-31    56980.000000\n",
       "2020-09-30    58176.190476\n",
       "2020-10-31    59736.842105\n",
       "2020-11-30    63419.047619\n",
       "2020-12-31    73619.047619\n",
       "2021-01-31    86565.000000\n",
       "2021-02-28    83127.777778\n",
       "2021-03-31    82072.727273\n",
       "2021-04-30    83586.363636\n",
       "2021-05-31    80521.052632\n",
       "2021-06-30    81104.545455\n",
       "2021-07-31    79577.272727\n",
       "2021-08-31    77023.809524\n",
       "2021-09-30    76305.263158\n",
       "2021-10-31    70563.157895\n",
       "2021-11-30    71536.363636\n",
       "2021-12-31    77809.090909\n",
       "Freq: M, Name: Close, dtype: float64"
      ]
     },
     "execution_count": 21,
     "metadata": {},
     "output_type": "execute_result"
    }
   ],
   "source": [
    "df['Close'].resample('M').mean()"
   ]
  },
  {
   "cell_type": "code",
   "execution_count": 22,
   "id": "8632be6d",
   "metadata": {},
   "outputs": [
    {
     "data": {
      "text/plain": [
       "Date\n",
       "2020-03-31    55833.870968\n",
       "2020-06-30    50483.606557\n",
       "2020-09-30    56562.500000\n",
       "2020-12-31    65783.606557\n",
       "2021-03-31    83886.666667\n",
       "2021-06-30    81795.238095\n",
       "2021-09-30    77709.677419\n",
       "2021-12-31    73433.333333\n",
       "Freq: Q-DEC, Name: Close, dtype: float64"
      ]
     },
     "execution_count": 22,
     "metadata": {},
     "output_type": "execute_result"
    }
   ],
   "source": [
    "df['Close'].resample('Q').mean()"
   ]
  },
  {
   "cell_type": "code",
   "execution_count": 23,
   "id": "d6ce6ce1",
   "metadata": {},
   "outputs": [
    {
     "data": {
      "text/plain": [
       "Date\n",
       "2020-01-05    55350.0\n",
       "2020-01-12    57240.0\n",
       "2020-01-19    60200.0\n",
       "2020-01-26    61725.0\n",
       "2020-02-02    57875.0\n",
       "               ...   \n",
       "2021-12-05    73880.0\n",
       "2021-12-12    77240.0\n",
       "2021-12-19    77440.0\n",
       "2021-12-26    79000.0\n",
       "2022-01-02    79400.0\n",
       "Freq: W-SUN, Name: Close, Length: 105, dtype: float64"
      ]
     },
     "execution_count": 23,
     "metadata": {},
     "output_type": "execute_result"
    }
   ],
   "source": [
    "df['Close'].resample('W').mean()"
   ]
  },
  {
   "cell_type": "code",
   "execution_count": null,
   "id": "a399f6ab",
   "metadata": {},
   "outputs": [],
   "source": []
  },
  {
   "cell_type": "code",
   "execution_count": null,
   "id": "46f9ccf8",
   "metadata": {},
   "outputs": [],
   "source": []
  },
  {
   "cell_type": "code",
   "execution_count": null,
   "id": "24d82943",
   "metadata": {},
   "outputs": [],
   "source": [
    "# bollinger band"
   ]
  },
  {
   "cell_type": "code",
   "execution_count": 24,
   "id": "cb8c1d1a",
   "metadata": {},
   "outputs": [],
   "source": [
    "df = fdr.DataReader('005930', '2020', '2023')"
   ]
  },
  {
   "cell_type": "code",
   "execution_count": 25,
   "id": "49803805",
   "metadata": {},
   "outputs": [
    {
     "data": {
      "text/html": [
       "<div>\n",
       "<style scoped>\n",
       "    .dataframe tbody tr th:only-of-type {\n",
       "        vertical-align: middle;\n",
       "    }\n",
       "\n",
       "    .dataframe tbody tr th {\n",
       "        vertical-align: top;\n",
       "    }\n",
       "\n",
       "    .dataframe thead th {\n",
       "        text-align: right;\n",
       "    }\n",
       "</style>\n",
       "<table border=\"1\" class=\"dataframe\">\n",
       "  <thead>\n",
       "    <tr style=\"text-align: right;\">\n",
       "      <th></th>\n",
       "      <th>Open</th>\n",
       "      <th>High</th>\n",
       "      <th>Low</th>\n",
       "      <th>Close</th>\n",
       "      <th>Volume</th>\n",
       "      <th>Change</th>\n",
       "    </tr>\n",
       "    <tr>\n",
       "      <th>Date</th>\n",
       "      <th></th>\n",
       "      <th></th>\n",
       "      <th></th>\n",
       "      <th></th>\n",
       "      <th></th>\n",
       "      <th></th>\n",
       "    </tr>\n",
       "  </thead>\n",
       "  <tbody>\n",
       "    <tr>\n",
       "      <th>2022-04-22</th>\n",
       "      <td>67200</td>\n",
       "      <td>67300</td>\n",
       "      <td>66700</td>\n",
       "      <td>67000</td>\n",
       "      <td>11791478</td>\n",
       "      <td>-0.010340</td>\n",
       "    </tr>\n",
       "    <tr>\n",
       "      <th>2022-04-25</th>\n",
       "      <td>66500</td>\n",
       "      <td>66700</td>\n",
       "      <td>66300</td>\n",
       "      <td>66300</td>\n",
       "      <td>11016474</td>\n",
       "      <td>-0.010448</td>\n",
       "    </tr>\n",
       "    <tr>\n",
       "      <th>2022-04-26</th>\n",
       "      <td>66400</td>\n",
       "      <td>66700</td>\n",
       "      <td>66100</td>\n",
       "      <td>66100</td>\n",
       "      <td>12946923</td>\n",
       "      <td>-0.003017</td>\n",
       "    </tr>\n",
       "    <tr>\n",
       "      <th>2022-04-27</th>\n",
       "      <td>65400</td>\n",
       "      <td>65500</td>\n",
       "      <td>64900</td>\n",
       "      <td>65000</td>\n",
       "      <td>18122084</td>\n",
       "      <td>-0.016641</td>\n",
       "    </tr>\n",
       "    <tr>\n",
       "      <th>2022-04-28</th>\n",
       "      <td>65400</td>\n",
       "      <td>65500</td>\n",
       "      <td>64500</td>\n",
       "      <td>64800</td>\n",
       "      <td>16701453</td>\n",
       "      <td>-0.003077</td>\n",
       "    </tr>\n",
       "  </tbody>\n",
       "</table>\n",
       "</div>"
      ],
      "text/plain": [
       "             Open   High    Low  Close    Volume    Change\n",
       "Date                                                      \n",
       "2022-04-22  67200  67300  66700  67000  11791478 -0.010340\n",
       "2022-04-25  66500  66700  66300  66300  11016474 -0.010448\n",
       "2022-04-26  66400  66700  66100  66100  12946923 -0.003017\n",
       "2022-04-27  65400  65500  64900  65000  18122084 -0.016641\n",
       "2022-04-28  65400  65500  64500  64800  16701453 -0.003077"
      ]
     },
     "execution_count": 25,
     "metadata": {},
     "output_type": "execute_result"
    }
   ],
   "source": [
    "df.tail()"
   ]
  },
  {
   "cell_type": "code",
   "execution_count": 26,
   "id": "65eb4696",
   "metadata": {},
   "outputs": [],
   "source": [
    "df['ma20'] = df['Close'].rolling(20).mean()"
   ]
  },
  {
   "cell_type": "code",
   "execution_count": 27,
   "id": "cf0cf51b",
   "metadata": {},
   "outputs": [
    {
     "data": {
      "text/html": [
       "<div>\n",
       "<style scoped>\n",
       "    .dataframe tbody tr th:only-of-type {\n",
       "        vertical-align: middle;\n",
       "    }\n",
       "\n",
       "    .dataframe tbody tr th {\n",
       "        vertical-align: top;\n",
       "    }\n",
       "\n",
       "    .dataframe thead th {\n",
       "        text-align: right;\n",
       "    }\n",
       "</style>\n",
       "<table border=\"1\" class=\"dataframe\">\n",
       "  <thead>\n",
       "    <tr style=\"text-align: right;\">\n",
       "      <th></th>\n",
       "      <th>Open</th>\n",
       "      <th>High</th>\n",
       "      <th>Low</th>\n",
       "      <th>Close</th>\n",
       "      <th>Volume</th>\n",
       "      <th>Change</th>\n",
       "      <th>ma20</th>\n",
       "    </tr>\n",
       "    <tr>\n",
       "      <th>Date</th>\n",
       "      <th></th>\n",
       "      <th></th>\n",
       "      <th></th>\n",
       "      <th></th>\n",
       "      <th></th>\n",
       "      <th></th>\n",
       "      <th></th>\n",
       "    </tr>\n",
       "  </thead>\n",
       "  <tbody>\n",
       "    <tr>\n",
       "      <th>2020-01-02</th>\n",
       "      <td>55500</td>\n",
       "      <td>56000</td>\n",
       "      <td>55000</td>\n",
       "      <td>55200</td>\n",
       "      <td>12993228</td>\n",
       "      <td>-0.010753</td>\n",
       "      <td>NaN</td>\n",
       "    </tr>\n",
       "    <tr>\n",
       "      <th>2020-01-03</th>\n",
       "      <td>56000</td>\n",
       "      <td>56600</td>\n",
       "      <td>54900</td>\n",
       "      <td>55500</td>\n",
       "      <td>15422255</td>\n",
       "      <td>0.005435</td>\n",
       "      <td>NaN</td>\n",
       "    </tr>\n",
       "    <tr>\n",
       "      <th>2020-01-06</th>\n",
       "      <td>54900</td>\n",
       "      <td>55600</td>\n",
       "      <td>54600</td>\n",
       "      <td>55500</td>\n",
       "      <td>10278951</td>\n",
       "      <td>0.000000</td>\n",
       "      <td>NaN</td>\n",
       "    </tr>\n",
       "    <tr>\n",
       "      <th>2020-01-07</th>\n",
       "      <td>55700</td>\n",
       "      <td>56400</td>\n",
       "      <td>55600</td>\n",
       "      <td>55800</td>\n",
       "      <td>10009778</td>\n",
       "      <td>0.005405</td>\n",
       "      <td>NaN</td>\n",
       "    </tr>\n",
       "    <tr>\n",
       "      <th>2020-01-08</th>\n",
       "      <td>56200</td>\n",
       "      <td>57400</td>\n",
       "      <td>55900</td>\n",
       "      <td>56800</td>\n",
       "      <td>23501171</td>\n",
       "      <td>0.017921</td>\n",
       "      <td>NaN</td>\n",
       "    </tr>\n",
       "  </tbody>\n",
       "</table>\n",
       "</div>"
      ],
      "text/plain": [
       "             Open   High    Low  Close    Volume    Change  ma20\n",
       "Date                                                            \n",
       "2020-01-02  55500  56000  55000  55200  12993228 -0.010753   NaN\n",
       "2020-01-03  56000  56600  54900  55500  15422255  0.005435   NaN\n",
       "2020-01-06  54900  55600  54600  55500  10278951  0.000000   NaN\n",
       "2020-01-07  55700  56400  55600  55800  10009778  0.005405   NaN\n",
       "2020-01-08  56200  57400  55900  56800  23501171  0.017921   NaN"
      ]
     },
     "execution_count": 27,
     "metadata": {},
     "output_type": "execute_result"
    }
   ],
   "source": [
    "df.head()"
   ]
  },
  {
   "cell_type": "code",
   "execution_count": 30,
   "id": "720d1e9c",
   "metadata": {},
   "outputs": [
    {
     "data": {
      "image/png": "[encoded data removed]",
      "text/plain": [
       "<Figure size 432x288 with 1 Axes>"
      ]
     },
     "metadata": {
      "needs_background": "light"
     },
     "output_type": "display_data"
    }
   ],
   "source": [
    "plt.hist(df.Change, bins=100)\n",
    "plt.show()"
   ]
  },
  {
   "cell_type": "code",
   "execution_count": null,
   "id": "958ebab5",
   "metadata": {},
   "outputs": [],
   "source": []
  },
  {
   "cell_type": "code",
   "execution_count": null,
   "id": "1bc90870",
   "metadata": {},
   "outputs": [],
   "source": []
  },
  {
   "cell_type": "code",
   "execution_count": null,
   "id": "992e0872",
   "metadata": {},
   "outputs": [],
   "source": []
  },
  {
   "cell_type": "code",
   "execution_count": null,
   "id": "429803be",
   "metadata": {},
   "outputs": [],
   "source": []
  },
  {
   "cell_type": "code",
   "execution_count": null,
   "id": "40571919",
   "metadata": {},
   "outputs": [],
   "source": []
  },
  {
   "cell_type": "code",
   "execution_count": null,
   "id": "9986bced",
   "metadata": {},
   "outputs": [],
   "source": []
  },
  {
   "cell_type": "code",
   "execution_count": null,
   "id": "3306a91c",
   "metadata": {},
   "outputs": [],
   "source": []
  },
  {
   "cell_type": "code",
   "execution_count": null,
   "id": "6a216e00",
   "metadata": {},
   "outputs": [],
   "source": []
  },
  {
   "cell_type": "code",
   "execution_count": null,
   "id": "280b093c",
   "metadata": {},
   "outputs": [],
   "source": []
  },
  {
   "cell_type": "code",
   "execution_count": null,
   "id": "b288abd2",
   "metadata": {},
   "outputs": [],
   "source": []
  },
  {
   "cell_type": "code",
   "execution_count": null,
   "id": "403f670f",
   "metadata": {},
   "outputs": [],
   "source": []
  },
  {
   "cell_type": "code",
   "execution_count": null,
   "id": "e3eafe1c",
   "metadata": {},
   "outputs": [],
   "source": []
  },
  {
   "cell_type": "code",
   "execution_count": null,
   "id": "90b6c2f6",
   "metadata": {},
   "outputs": [],
   "source": []
  },
  {
   "cell_type": "code",
   "execution_count": null,
   "id": "8dfb381c",
   "metadata": {},
   "outputs": [],
   "source": []
  },
  {
   "cell_type": "code",
   "execution_count": null,
   "id": "0777d970",
   "metadata": {},
   "outputs": [],
   "source": []
  },
  {
   "cell_type": "code",
   "execution_count": null,
   "id": "964c0cb1",
   "metadata": {},
   "outputs": [],
   "source": []
  },
  {
   "cell_type": "code",
   "execution_count": null,
   "id": "ce35d082",
   "metadata": {},
   "outputs": [],
   "source": []
  },
  {
   "cell_type": "code",
   "execution_count": null,
   "id": "b8e21c7a",
   "metadata": {},
   "outputs": [],
   "source": []
  },
  {
   "cell_type": "code",
   "execution_count": null,
   "id": "a40c94e9",
   "metadata": {},
   "outputs": [],
   "source": []
  },
  {
   "cell_type": "code",
   "execution_count": null,
   "id": "55b2e96e",
   "metadata": {},
   "outputs": [],
   "source": []
  },
  {
   "cell_type": "code",
   "execution_count": null,
   "id": "065c8d94",
   "metadata": {},
   "outputs": [],
   "source": []
  },
  {
   "cell_type": "code",
   "execution_count": null,
   "id": "458bdc2d",
   "metadata": {},
   "outputs": [],
   "source": []
  },
  {
   "cell_type": "code",
   "execution_count": null,
   "id": "2abafcfc",
   "metadata": {},
   "outputs": [],
   "source": []
  },
  {
   "cell_type": "code",
   "execution_count": null,
   "id": "a1d8b9b4",
   "metadata": {},
   "outputs": [],
   "source": []
  },
  {
   "cell_type": "code",
   "execution_count": null,
   "id": "c70c5f7c",
   "metadata": {},
   "outputs": [],
   "source": []
  },
  {
   "cell_type": "code",
   "execution_count": null,
   "id": "fea74b9f",
   "metadata": {},
   "outputs": [],
   "source": []
  },
  {
   "cell_type": "code",
   "execution_count": null,
   "id": "6900bac9",
   "metadata": {},
   "outputs": [],
   "source": []
  },
  {
   "cell_type": "code",
   "execution_count": null,
   "id": "9c66f1fb",
   "metadata": {},
   "outputs": [],
   "source": []
  },
  {
   "cell_type": "code",
   "execution_count": null,
   "id": "6e41f283",
   "metadata": {},
   "outputs": [],
   "source": []
  },
  {
   "cell_type": "code",
   "execution_count": null,
   "id": "f32f9a7d",
   "metadata": {},
   "outputs": [],
   "source": []
  },
  {
   "cell_type": "code",
   "execution_count": null,
   "id": "9e7c5feb",
   "metadata": {},
   "outputs": [],
   "source": []
  },
  {
   "cell_type": "code",
   "execution_count": null,
   "id": "1a2fd365",
   "metadata": {},
   "outputs": [],
   "source": []
  },
  {
   "cell_type": "code",
   "execution_count": null,
   "id": "6f106778",
   "metadata": {},
   "outputs": [],
   "source": []
  },
  {
   "cell_type": "code",
   "execution_count": null,
   "id": "8573c2d9",
   "metadata": {},
   "outputs": [],
   "source": []
  },
  {
   "cell_type": "code",
   "execution_count": null,
   "id": "c93aa2ca",
   "metadata": {},
   "outputs": [],
   "source": []
  },
  {
   "cell_type": "code",
   "execution_count": null,
   "id": "a8d080a0",
   "metadata": {},
   "outputs": [],
   "source": []
  },
  {
   "cell_type": "code",
   "execution_count": null,
   "id": "e93e45ad",
   "metadata": {},
   "outputs": [],
   "source": []
  },
  {
   "cell_type": "code",
   "execution_count": null,
   "id": "7648aeb2",
   "metadata": {},
   "outputs": [],
   "source": []
  },
  {
   "cell_type": "code",
   "execution_count": null,
   "id": "c9e15504",
   "metadata": {},
   "outputs": [],
   "source": []
  },
  {
   "cell_type": "code",
   "execution_count": null,
   "id": "2463c24f",
   "metadata": {},
   "outputs": [],
   "source": []
  },
  {
   "cell_type": "code",
   "execution_count": null,
   "id": "5584240c",
   "metadata": {},
   "outputs": [],
   "source": []
  },
  {
   "cell_type": "code",
   "execution_count": null,
   "id": "6c3b3fa1",
   "metadata": {},
   "outputs": [],
   "source": []
  },
  {
   "cell_type": "code",
   "execution_count": null,
   "id": "17d0353f",
   "metadata": {},
   "outputs": [],
   "source": []
  },
  {
   "cell_type": "code",
   "execution_count": null,
   "id": "b5db6276",
   "metadata": {},
   "outputs": [],
   "source": []
  },
  {
   "cell_type": "code",
   "execution_count": null,
   "id": "6bba49ee",
   "metadata": {},
   "outputs": [],
   "source": []
  },
  {
   "cell_type": "code",
   "execution_count": null,
   "id": "73e9f57b",
   "metadata": {},
   "outputs": [],
   "source": []
  },
  {
   "cell_type": "code",
   "execution_count": null,
   "id": "f74186ae",
   "metadata": {},
   "outputs": [],
   "source": []
  },
  {
   "cell_type": "code",
   "execution_count": null,
   "id": "067e38f0",
   "metadata": {},
   "outputs": [],
   "source": []
  },
  {
   "cell_type": "code",
   "execution_count": null,
   "id": "3db8c941",
   "metadata": {},
   "outputs": [],
   "source": []
  },
  {
   "cell_type": "code",
   "execution_count": null,
   "id": "6a237a6c",
   "metadata": {},
   "outputs": [],
   "source": []
  },
  {
   "cell_type": "code",
   "execution_count": null,
   "id": "35b229c6",
   "metadata": {},
   "outputs": [],
   "source": []
  },
  {
   "cell_type": "code",
   "execution_count": null,
   "id": "c5b33983",
   "metadata": {},
   "outputs": [],
   "source": []
  },
  {
   "cell_type": "code",
   "execution_count": null,
   "id": "307f4198",
   "metadata": {},
   "outputs": [],
   "source": []
  },
  {
   "cell_type": "code",
   "execution_count": null,
   "id": "9d20bbdf",
   "metadata": {},
   "outputs": [],
   "source": []
  },
  {
   "cell_type": "code",
   "execution_count": null,
   "id": "21562ccf",
   "metadata": {},
   "outputs": [],
   "source": []
  },
  {
   "cell_type": "code",
   "execution_count": null,
   "id": "45fdf01d",
   "metadata": {},
   "outputs": [],
   "source": []
  },
  {
   "cell_type": "code",
   "execution_count": null,
   "id": "cc7ef9bc",
   "metadata": {},
   "outputs": [],
   "source": []
  },
  {
   "cell_type": "code",
   "execution_count": null,
   "id": "e4075091",
   "metadata": {},
   "outputs": [],
   "source": []
  },
  {
   "cell_type": "code",
   "execution_count": null,
   "id": "8d467364",
   "metadata": {},
   "outputs": [],
   "source": []
  },
  {
   "cell_type": "code",
   "execution_count": null,
   "id": "335f0778",
   "metadata": {},
   "outputs": [],
   "source": []
  },
  {
   "cell_type": "code",
   "execution_count": null,
   "id": "d665d09b",
   "metadata": {},
   "outputs": [],
   "source": []
  },
  {
   "cell_type": "code",
   "execution_count": null,
   "id": "f4783f16",
   "metadata": {},
   "outputs": [],
   "source": []
  },
  {
   "cell_type": "code",
   "execution_count": null,
   "id": "14e60cc0",
   "metadata": {},
   "outputs": [],
   "source": []
  },
  {
   "cell_type": "code",
   "execution_count": null,
   "id": "a61cf651",
   "metadata": {},
   "outputs": [],
   "source": []
  },
  {
   "cell_type": "code",
   "execution_count": null,
   "id": "78c522c8",
   "metadata": {},
   "outputs": [],
   "source": []
  },
  {
   "cell_type": "code",
   "execution_count": null,
   "id": "8c98a901",
   "metadata": {},
   "outputs": [],
   "source": []
  },
  {
   "cell_type": "code",
   "execution_count": null,
   "id": "b4a533b5",
   "metadata": {},
   "outputs": [],
   "source": []
  },
  {
   "cell_type": "code",
   "execution_count": null,
   "id": "eaa12494",
   "metadata": {},
   "outputs": [],
   "source": []
  },
  {
   "cell_type": "code",
   "execution_count": null,
   "id": "0817a385",
   "metadata": {},
   "outputs": [],
   "source": []
  },
  {
   "cell_type": "code",
   "execution_count": null,
   "id": "863c0f5a",
   "metadata": {},
   "outputs": [],
   "source": []
  },
  {
   "cell_type": "code",
   "execution_count": null,
   "id": "44605cc8",
   "metadata": {},
   "outputs": [],
   "source": []
  },
  {
   "cell_type": "code",
   "execution_count": null,
   "id": "c962668f",
   "metadata": {},
   "outputs": [],
   "source": []
  }
 ],
 "metadata": {
  "kernelspec": {
   "display_name": "Python 3 (ipykernel)",
   "language": "python",
   "name": "python3"
  },
  "language_info": {
   "codemirror_mode": {
    "name": "ipython",
    "version": 3
   },
   "file_extension": ".py",
   "mimetype": "text/x-python",
   "name": "python",
   "nbconvert_exporter": "python",
   "pygments_lexer": "ipython3",
   "version": "3.9.7"
  }
 },
 "nbformat": 4,
 "nbformat_minor": 5
}
